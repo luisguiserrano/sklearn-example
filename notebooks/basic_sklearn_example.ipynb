{
 "cells": [
  {
   "cell_type": "code",
   "execution_count": 29,
   "metadata": {},
   "outputs": [],
   "source": [
    "import numpy as np\n",
    "import pandas as pd\n",
    "import sklearn\n",
    "from sklearn.svm import SVC\n",
    "from sklearn.linear_model import LogisticRegression\n",
    "from sklearn.tree import DecisionTreeClassifier"
   ]
  },
  {
   "cell_type": "code",
   "execution_count": 30,
   "metadata": {},
   "outputs": [],
   "source": [
    "data = pd.read_csv('./data.csv')"
   ]
  },
  {
   "cell_type": "code",
   "execution_count": 31,
   "metadata": {},
   "outputs": [],
   "source": [
    "features = np.array(data[['x_1', 'x_2']])\n",
    "labels = np.array(data['y'])"
   ]
  },
  {
   "cell_type": "code",
   "execution_count": 34,
   "metadata": {},
   "outputs": [
    {
     "name": "stdout",
     "output_type": "stream",
     "text": [
      "Logistic regression score 0.8833333333333333\n",
      "[0 1 1 0 1 0 0 1 1 0 0 1 1 0 0 1 0 0 0 1 1 0 1 0 1 0 1 1 0 1 1 0 0 0 1 1 0\n",
      " 0 1 1 1 1 1 1 0 0 0 1 0 1 1 1 1 0 1 0 0 1 0 0]\n",
      "Decision tree score 1.0\n",
      "[0 1 1 0 1 0 0 1 1 0 0 1 1 0 0 1 0 0 0 1 1 0 1 0 1 0 1 0 0 1 1 0 0 0 1 1 0\n",
      " 0 1 1 0 1 0 1 0 0 0 1 0 1 1 0 1 0 1 0 1 1 1 1]\n",
      "SVM score 0.9333333333333333\n",
      "[0 1 1 0 1 0 0 1 1 0 0 1 1 0 0 1 0 0 0 1 1 0 1 0 1 0 1 0 0 1 1 0 0 0 1 1 0\n",
      " 0 1 1 0 1 0 1 0 0 0 1 0 1 1 1 1 0 1 0 0 1 0 0]\n"
     ]
    }
   ],
   "source": [
    "# Logistic Regression\n",
    "logistic_regression = LogisticRegression()\n",
    "logistic_regression.fit(features, labels)\n",
    "print(\"Logistic regression score\", logistic_regression.score(features, labels))\n",
    "print(logistic_regression.predict(features))\n",
    "\n",
    "# Decision Trees\n",
    "decision_tree = DecisionTreeClassifier()\n",
    "decision_tree.fit(features, labels)\n",
    "print(\"Decision tree score\", decision_tree.score(features, labels))\n",
    "print(decision_tree.predict(features))\n",
    "\n",
    "# SVM\n",
    "svm = SVC(kernel='linear')\n",
    "svm.fit(features, labels)\n",
    "print(\"SVM score\", svm.score(features, labels))\n",
    "print(svm.predict(features))"
   ]
  },
  {
   "cell_type": "code",
   "execution_count": 27,
   "metadata": {},
   "outputs": [
    {
     "data": {
      "text/plain": [
       "array([0, 0, 0, 1, 1, 1])"
      ]
     },
     "execution_count": 27,
     "metadata": {},
     "output_type": "execute_result"
    }
   ],
   "source": [
    "logistic_regression.predict(features)"
   ]
  },
  {
   "cell_type": "code",
   "execution_count": 39,
   "metadata": {},
   "outputs": [
    {
     "name": "stdout",
     "output_type": "stream",
     "text": [
      "returning <class 'sklearn.linear_model._logistic.LogisticRegression'>\n",
      "receiving <class 'sklearn.linear_model._logistic.LogisticRegression'>\n",
      "Score: 1.0\n",
      "Predictions: [0 0 0 1 1 1]\n"
     ]
    }
   ],
   "source": [
    "import numpy as np\n",
    "import pandas as pd\n",
    "import sklearn\n",
    "\n",
    "def generate_dataset():\n",
    "    dataset = pd.DataFrame({'x_1':[0,0,1,1,2,2],\n",
    "                        'x_2':[0,1,0,2,1,2],\n",
    "                        'y':[0,0,0,1,1,1]})\n",
    "    return dataset\n",
    "\n",
    "def preprocess_data(dataset):\n",
    "    features = np.array(dataset[['x_1', 'x_2']])\n",
    "    labels = np.array(dataset['y'])\n",
    "    return features, labels\n",
    "\n",
    "def return_model(model_name = \"logistic_regression\"):\n",
    "    if model_name == 'logistic_regression':\n",
    "        model = sklearn.linear_model.LogisticRegression()\n",
    "    if model_name == 'decision_tree':\n",
    "        model = sklearn.tree.DecisionTreeClassifier()\n",
    "    print(\"returning\", type(model))\n",
    "    return model\n",
    "\n",
    "def train_model(model, features, labels):\n",
    "    print(\"receiving\", type(model))\n",
    "    model.fit(features, labels)\n",
    "    return model\n",
    "\n",
    "def score_model(model, features, labels):\n",
    "    score = model.score(features, labels)\n",
    "    return score\n",
    "\n",
    "def predict(model, features):\n",
    "    predictions = model.predict(features)\n",
    "    return predictions\n",
    "\n",
    "dataset = generate_dataset()\n",
    "features, labels = preprocess_data(dataset)\n",
    "model = return_model(\"logistic_regression\")\n",
    "model = train_model(model, features, labels)\n",
    "score = score_model(model, features, labels)\n",
    "predictions = predict(model, features)\n",
    "\n",
    "print(\"Score:\", score)\n",
    "print(\"Predictions:\", predictions)"
   ]
  },
  {
   "cell_type": "code",
   "execution_count": null,
   "metadata": {},
   "outputs": [],
   "source": []
  }
 ],
 "metadata": {
  "kernelspec": {
   "display_name": "Python 3",
   "language": "python",
   "name": "python3"
  },
  "language_info": {
   "codemirror_mode": {
    "name": "ipython",
    "version": 3
   },
   "file_extension": ".py",
   "mimetype": "text/x-python",
   "name": "python",
   "nbconvert_exporter": "python",
   "pygments_lexer": "ipython3",
   "version": "3.7.6"
  }
 },
 "nbformat": 4,
 "nbformat_minor": 4
}
